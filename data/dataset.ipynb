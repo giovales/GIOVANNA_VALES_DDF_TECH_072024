{
 "cells": [
  {
   "cell_type": "code",
   "execution_count": 3,
   "metadata": {},
   "outputs": [
    {
     "name": "stdout",
     "output_type": "stream",
     "text": [
      "Defaulting to user installation because normal site-packages is not writeable\n",
      "Collecting faker\n",
      "  Downloading Faker-26.0.0-py3-none-any.whl (1.8 MB)\n",
      "     ---------------------------------------- 1.8/1.8 MB 4.8 MB/s eta 0:00:00\n",
      "Requirement already satisfied: python-dateutil>=2.4 in c:\\programdata\\anaconda3\\lib\\site-packages (from faker) (2.8.2)\n",
      "Requirement already satisfied: six>=1.5 in c:\\programdata\\anaconda3\\lib\\site-packages (from python-dateutil>=2.4->faker) (1.16.0)\n",
      "Installing collected packages: faker\n",
      "Successfully installed faker-26.0.0\n",
      "Note: you may need to restart the kernel to use updated packages.\n"
     ]
    },
    {
     "name": "stderr",
     "output_type": "stream",
     "text": [
      "  WARNING: The script faker.exe is installed in 'C:\\Users\\Trabalho\\AppData\\Roaming\\Python\\Python310\\Scripts' which is not on PATH.\n",
      "  Consider adding this directory to PATH or, if you prefer to suppress this warning, use --no-warn-script-location.\n"
     ]
    }
   ],
   "source": [
    "pip install faker"
   ]
  },
  {
   "cell_type": "code",
   "execution_count": 4,
   "metadata": {},
   "outputs": [],
   "source": [
    "import pandas as pd\n",
    "import numpy as np\n",
    "from faker import Faker\n",
    "import random\n",
    "\n",
    "fake = Faker()\n",
    "\n",
    "def generate_synthetic_data(num_records):\n",
    "    data = []\n",
    "    for _ in range(num_records):\n",
    "        employee_id = fake.uuid4()\n",
    "        task_date = fake.date_this_year()\n",
    "        task_time = fake.time()\n",
    "        task_type = random.choice(['customer_service', 'order_processing', 'inventory_management'])\n",
    "        duration = random.randint(10, 180)  # Duration in minutes\n",
    "        orders_processed = random.randint(0, 70)\n",
    "        complaints_handled = random.randint(0, 10)\n",
    "        feedback = random.choice(['positive', 'negative', 'neutral'])\n",
    "        response_time = random.randint(1, 60)  # Response time in minutes\n",
    "        \n",
    "        data.append([employee_id, task_date, task_time, task_type, duration, orders_processed, complaints_handled, feedback, response_time])\n",
    "    \n",
    "    columns = ['EmployeeID', 'TaskDate', 'TaskTime', 'TaskType', 'Duration', 'OrdersProcessed', 'ComplaintsHandled', 'Feedback', 'ResponseTime']\n",
    "    return pd.DataFrame(data, columns=columns)\n",
    "\n",
    "# Generate 100,000 records\n",
    "synthetic_data = generate_synthetic_data(200000)\n",
    "synthetic_data.to_csv('synthetic_ecommerce_employee_performance_data.csv', index=False)\n"
   ]
  },
  {
   "cell_type": "code",
   "execution_count": 1,
   "metadata": {},
   "outputs": [],
   "source": [
    "import pandas as pd\n",
    "import random\n",
    "from faker import Faker\n",
    "\n",
    "fake = Faker()\n",
    "\n",
    "# Carregar os dados sintéticos\n",
    "synthetic_data = pd.read_csv('synthetic_ecommerce_employee_performance_data.csv')\n",
    "\n",
    "# Criar colunas com nomes e departamentos falsos para a DimEmployee\n",
    "def generate_employee_data(employee_ids):\n",
    "    employees = []\n",
    "    departments = ['Sales', 'Support']\n",
    "    for emp_id in employee_ids:\n",
    "        name = fake.name()\n",
    "        department = random.choice(departments)\n",
    "        employees.append([emp_id, name, department])\n",
    "    return pd.DataFrame(employees, columns=['EmployeeID', 'EmployeeName', 'Department'])\n",
    "\n",
    "# Obter IDs únicos dos funcionários\n",
    "unique_employee_ids = synthetic_data['EmployeeID'].unique()\n",
    "\n",
    "# Gerar dados de funcionários\n",
    "dim_employee = generate_employee_data(unique_employee_ids)\n",
    "\n",
    "# Tabela dimensão Tarefa\n",
    "dim_task = synthetic_data[['TaskType']].drop_duplicates().reset_index(drop=True)\n",
    "dim_task['TaskTypeID'] = dim_task.index + 1  # Adicionar ID único para cada tipo de tarefa\n",
    "\n",
    "# Tabela dimensão Feedback\n",
    "dim_feedback = synthetic_data[['Feedback']].drop_duplicates().reset_index(drop=True)\n",
    "dim_feedback['FeedbackID'] = dim_feedback.index + 1  # Adicionar ID único para cada tipo de feedback\n",
    "\n",
    "# Mesclar IDs únicos de tarefa e feedback na tabela fato\n",
    "fact_table = synthetic_data.merge(dim_task, on='TaskType').merge(dim_feedback, on='Feedback')\n",
    "\n",
    "# Selecionar colunas relevantes para a tabela fato\n",
    "fact_table = fact_table[['EmployeeID', 'TaskDate', 'TaskTime', 'TaskTypeID', 'Duration', 'OrdersProcessed', 'ComplaintsHandled', 'FeedbackID', 'ResponseTime']]\n",
    "\n",
    "# Salvar tabelas dimensão e fato em arquivos CSV\n",
    "dim_employee.to_csv('dim_employee.csv', index=False)\n",
    "dim_task.to_csv('dim_task.csv', index=False)\n",
    "dim_feedback.to_csv('dim_feedback.csv', index=False)\n",
    "fact_table.to_csv('fact_table.csv', index=False)\n"
   ]
  }
 ],
 "metadata": {
  "kernelspec": {
   "display_name": "base",
   "language": "python",
   "name": "python3"
  },
  "language_info": {
   "codemirror_mode": {
    "name": "ipython",
    "version": 3
   },
   "file_extension": ".py",
   "mimetype": "text/x-python",
   "name": "python",
   "nbconvert_exporter": "python",
   "pygments_lexer": "ipython3",
   "version": "3.10.9"
  }
 },
 "nbformat": 4,
 "nbformat_minor": 2
}
