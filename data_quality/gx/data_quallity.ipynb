{
 "cells": [
  {
   "cell_type": "code",
   "execution_count": 1,
   "id": "857359f3",
   "metadata": {},
   "outputs": [],
   "source": [
    "import great_expectations as gx\n",
    "from great_expectations.cli.datasource import sanitize_yaml_and_save_datasource, check_if_datasource_name_exists\n",
    "context = gx.get_context()"
   ]
  },
  {
   "cell_type": "code",
   "execution_count": 2,
   "id": "379fa72c",
   "metadata": {},
   "outputs": [],
   "source": [
    "from path_config import folder_path\n",
    "import os\n",
    "\n",
    "file_name = \"synthetic_ecommerce_employee_performance_data.csv\"\n",
    "file_path = os.path.join(folder_path, file_name)\n",
    "\n",
    "validator = context.sources.pandas_default.read_csv(file_path)\n"
   ]
  },
  {
   "cell_type": "code",
   "execution_count": 3,
   "id": "fde0d88e",
   "metadata": {},
   "outputs": [],
   "source": [
    "# Give your Datasource a name\n",
    "datasource_name = 'ecommerce_datasource'\n",
    "datasource = context.sources.add_pandas(datasource_name)\n",
    "\n",
    "# Give your first Asset a name\n",
    "asset_name = 'ecommerce_asset'\n",
    "asset = datasource.add_csv_asset(asset_name, filepath_or_buffer=file_path)\n",
    "\n",
    "# Build batch request\n",
    "batch_request = asset.build_batch_request()"
   ]
  },
  {
   "cell_type": "code",
   "execution_count": 4,
   "id": "8e0d97ce",
   "metadata": {},
   "outputs": [],
   "source": [
    "data_asset = context.get_datasource('ecommerce_datasource').get_asset('ecommerce_asset')\n",
    "batch_request = data_asset.build_batch_request()"
   ]
  },
  {
   "cell_type": "code",
   "execution_count": 5,
   "id": "7f3f0af3",
   "metadata": {},
   "outputs": [
    {
     "data": {
      "text/plain": [
       "{\n",
       "  \"expectation_suite_name\": \"ecommerce_expectation_suite\",\n",
       "  \"ge_cloud_id\": null,\n",
       "  \"expectations\": [],\n",
       "  \"data_asset_type\": null,\n",
       "  \"meta\": {\n",
       "    \"great_expectations_version\": \"0.18.19\"\n",
       "  }\n",
       "}"
      ]
     },
     "execution_count": 5,
     "metadata": {},
     "output_type": "execute_result"
    }
   ],
   "source": [
    "context.add_or_update_expectation_suite(\"ecommerce_expectation_suite\")"
   ]
  },
  {
   "cell_type": "code",
   "execution_count": 6,
   "id": "1aae34a5",
   "metadata": {},
   "outputs": [
    {
     "data": {
      "application/vnd.jupyter.widget-view+json": {
       "model_id": "ed6003959071470092c1ce5a9cfacb03",
       "version_major": 2,
       "version_minor": 0
      },
      "text/plain": [
       "Calculating Metrics:   0%|          | 0/1 [00:00<?, ?it/s]"
      ]
     },
     "metadata": {},
     "output_type": "display_data"
    },
    {
     "data": {
      "text/html": [
       "<div>\n",
       "<style scoped>\n",
       "    .dataframe tbody tr th:only-of-type {\n",
       "        vertical-align: middle;\n",
       "    }\n",
       "\n",
       "    .dataframe tbody tr th {\n",
       "        vertical-align: top;\n",
       "    }\n",
       "\n",
       "    .dataframe thead th {\n",
       "        text-align: right;\n",
       "    }\n",
       "</style>\n",
       "<table border=\"1\" class=\"dataframe\">\n",
       "  <thead>\n",
       "    <tr style=\"text-align: right;\">\n",
       "      <th></th>\n",
       "      <th>EmployeeID</th>\n",
       "      <th>TaskDate</th>\n",
       "      <th>TaskTime</th>\n",
       "      <th>TaskType</th>\n",
       "      <th>Duration</th>\n",
       "      <th>OrdersProcessed</th>\n",
       "      <th>ComplaintsHandled</th>\n",
       "      <th>Feedback</th>\n",
       "      <th>ResponseTime</th>\n",
       "    </tr>\n",
       "  </thead>\n",
       "  <tbody>\n",
       "    <tr>\n",
       "      <th>0</th>\n",
       "      <td>9318b353-2ce8-4324-be78-19b7e334aaeb</td>\n",
       "      <td>2024-04-09</td>\n",
       "      <td>09:46:35</td>\n",
       "      <td>customer_service</td>\n",
       "      <td>117</td>\n",
       "      <td>56</td>\n",
       "      <td>8</td>\n",
       "      <td>positive</td>\n",
       "      <td>29</td>\n",
       "    </tr>\n",
       "    <tr>\n",
       "      <th>1</th>\n",
       "      <td>0e6ef032-edf6-4beb-8e6a-2e288c66e840</td>\n",
       "      <td>2024-03-01</td>\n",
       "      <td>19:31:54</td>\n",
       "      <td>inventory_management</td>\n",
       "      <td>60</td>\n",
       "      <td>22</td>\n",
       "      <td>10</td>\n",
       "      <td>neutral</td>\n",
       "      <td>26</td>\n",
       "    </tr>\n",
       "    <tr>\n",
       "      <th>2</th>\n",
       "      <td>479a4e6f-7d92-4bce-9bda-0dc762802cf6</td>\n",
       "      <td>2024-02-26</td>\n",
       "      <td>19:02:19</td>\n",
       "      <td>inventory_management</td>\n",
       "      <td>151</td>\n",
       "      <td>13</td>\n",
       "      <td>1</td>\n",
       "      <td>positive</td>\n",
       "      <td>30</td>\n",
       "    </tr>\n",
       "    <tr>\n",
       "      <th>3</th>\n",
       "      <td>7f966d4b-dd3a-47f4-9401-ad2f18137125</td>\n",
       "      <td>2024-05-09</td>\n",
       "      <td>20:18:05</td>\n",
       "      <td>customer_service</td>\n",
       "      <td>17</td>\n",
       "      <td>15</td>\n",
       "      <td>8</td>\n",
       "      <td>neutral</td>\n",
       "      <td>8</td>\n",
       "    </tr>\n",
       "    <tr>\n",
       "      <th>4</th>\n",
       "      <td>b3900fa8-68d9-497d-ab20-09568282fa1f</td>\n",
       "      <td>2024-03-24</td>\n",
       "      <td>23:08:26</td>\n",
       "      <td>order_processing</td>\n",
       "      <td>117</td>\n",
       "      <td>59</td>\n",
       "      <td>6</td>\n",
       "      <td>negative</td>\n",
       "      <td>37</td>\n",
       "    </tr>\n",
       "  </tbody>\n",
       "</table>\n",
       "</div>"
      ],
      "text/plain": [
       "                             EmployeeID    TaskDate  TaskTime  \\\n",
       "0  9318b353-2ce8-4324-be78-19b7e334aaeb  2024-04-09  09:46:35   \n",
       "1  0e6ef032-edf6-4beb-8e6a-2e288c66e840  2024-03-01  19:31:54   \n",
       "2  479a4e6f-7d92-4bce-9bda-0dc762802cf6  2024-02-26  19:02:19   \n",
       "3  7f966d4b-dd3a-47f4-9401-ad2f18137125  2024-05-09  20:18:05   \n",
       "4  b3900fa8-68d9-497d-ab20-09568282fa1f  2024-03-24  23:08:26   \n",
       "\n",
       "               TaskType  Duration  OrdersProcessed  ComplaintsHandled  \\\n",
       "0      customer_service       117               56                  8   \n",
       "1  inventory_management        60               22                 10   \n",
       "2  inventory_management       151               13                  1   \n",
       "3      customer_service        17               15                  8   \n",
       "4      order_processing       117               59                  6   \n",
       "\n",
       "   Feedback  ResponseTime  \n",
       "0  positive            29  \n",
       "1   neutral            26  \n",
       "2  positive            30  \n",
       "3   neutral             8  \n",
       "4  negative            37  "
      ]
     },
     "execution_count": 6,
     "metadata": {},
     "output_type": "execute_result"
    }
   ],
   "source": [
    "validator = context.get_validator(\n",
    "    batch_request=batch_request,\n",
    "    expectation_suite_name=\"ecommerce_expectation_suite\",\n",
    ")\n",
    "validator.head()"
   ]
  },
  {
   "cell_type": "code",
   "execution_count": 7,
   "id": "f8e305f1",
   "metadata": {},
   "outputs": [
    {
     "data": {
      "application/vnd.jupyter.widget-view+json": {
       "model_id": "fcfdf540714f440384b7427bd26ffb6a",
       "version_major": 2,
       "version_minor": 0
      },
      "text/plain": [
       "Calculating Metrics:   0%|          | 0/6 [00:00<?, ?it/s]"
      ]
     },
     "metadata": {},
     "output_type": "display_data"
    },
    {
     "data": {
      "application/vnd.jupyter.widget-view+json": {
       "model_id": "7b7a1568b6d342d493759a8511bfa700",
       "version_major": 2,
       "version_minor": 0
      },
      "text/plain": [
       "Calculating Metrics:   0%|          | 0/6 [00:00<?, ?it/s]"
      ]
     },
     "metadata": {},
     "output_type": "display_data"
    },
    {
     "data": {
      "application/vnd.jupyter.widget-view+json": {
       "model_id": "72ea11e8775441a0b8b91e49df0ae92d",
       "version_major": 2,
       "version_minor": 0
      },
      "text/plain": [
       "Calculating Metrics:   0%|          | 0/8 [00:00<?, ?it/s]"
      ]
     },
     "metadata": {},
     "output_type": "display_data"
    },
    {
     "data": {
      "application/vnd.jupyter.widget-view+json": {
       "model_id": "a5a9b4e796f24b76b276b791660ceec2",
       "version_major": 2,
       "version_minor": 0
      },
      "text/plain": [
       "Calculating Metrics:   0%|          | 0/4 [00:00<?, ?it/s]"
      ]
     },
     "metadata": {},
     "output_type": "display_data"
    },
    {
     "data": {
      "text/plain": [
       "{\n",
       "  \"success\": true,\n",
       "  \"result\": {\n",
       "    \"observed_value\": 95.0\n",
       "  },\n",
       "  \"meta\": {},\n",
       "  \"exception_info\": {\n",
       "    \"raised_exception\": false,\n",
       "    \"exception_traceback\": null,\n",
       "    \"exception_message\": null\n",
       "  }\n",
       "}"
      ]
     },
     "execution_count": 7,
     "metadata": {},
     "output_type": "execute_result"
    }
   ],
   "source": [
    "# Definir Expectativas\n",
    "validator.expect_column_values_to_not_be_null(column=\"EmployeeID\")\n",
    "validator.expect_column_values_to_not_be_null(column=\"TaskDate\")\n",
    "validator.expect_column_values_to_be_in_set(column=\"TaskType\", value_set=['customer_service', 'order_processing', 'inventory_management'])\n",
    "validator.expect_column_median_to_be_between(column=\"Duration\", min_value=10, max_value=180)"
   ]
  },
  {
   "cell_type": "code",
   "execution_count": 8,
   "id": "2d3b7b52",
   "metadata": {},
   "outputs": [],
   "source": [
    "validator.save_expectation_suite(discard_failed_expectations=False)"
   ]
  },
  {
   "cell_type": "code",
   "execution_count": 9,
   "id": "d3e6b2af",
   "metadata": {},
   "outputs": [],
   "source": [
    "checkpoint = context.add_or_update_checkpoint(\n",
    "    name=\"my_quickstart_checkpoint\",\n",
    "    validator=validator,\n",
    ")"
   ]
  },
  {
   "cell_type": "code",
   "execution_count": 10,
   "id": "7d0cf3ba",
   "metadata": {},
   "outputs": [
    {
     "data": {
      "application/vnd.jupyter.widget-view+json": {
       "model_id": "e9d67227135f407d97edc098cef372e0",
       "version_major": 2,
       "version_minor": 0
      },
      "text/plain": [
       "Calculating Metrics:   0%|          | 0/21 [00:00<?, ?it/s]"
      ]
     },
     "metadata": {},
     "output_type": "display_data"
    }
   ],
   "source": [
    "checkpoint_result = checkpoint.run()"
   ]
  },
  {
   "cell_type": "code",
   "execution_count": 11,
   "id": "6a73b35e",
   "metadata": {},
   "outputs": [
    {
     "data": {
      "application/vnd.jupyter.widget-view+json": {
       "model_id": "1cbf94ad97d44bf798a9b6ea95911196",
       "version_major": 2,
       "version_minor": 0
      },
      "text/plain": [
       "Calculating Metrics:   0%|          | 0/1 [00:00<?, ?it/s]"
      ]
     },
     "metadata": {},
     "output_type": "display_data"
    },
    {
     "name": "stdout",
     "output_type": "stream",
     "text": [
      "                             EmployeeID    TaskDate  TaskTime  \\\n",
      "0  9318b353-2ce8-4324-be78-19b7e334aaeb  2024-04-09  09:46:35   \n",
      "1  0e6ef032-edf6-4beb-8e6a-2e288c66e840  2024-03-01  19:31:54   \n",
      "2  479a4e6f-7d92-4bce-9bda-0dc762802cf6  2024-02-26  19:02:19   \n",
      "3  7f966d4b-dd3a-47f4-9401-ad2f18137125  2024-05-09  20:18:05   \n",
      "4  b3900fa8-68d9-497d-ab20-09568282fa1f  2024-03-24  23:08:26   \n",
      "\n",
      "               TaskType  Duration  OrdersProcessed  ComplaintsHandled  \\\n",
      "0      customer_service       117               56                  8   \n",
      "1  inventory_management        60               22                 10   \n",
      "2  inventory_management       151               13                  1   \n",
      "3      customer_service        17               15                  8   \n",
      "4      order_processing       117               59                  6   \n",
      "\n",
      "   Feedback  ResponseTime  \n",
      "0  positive            29  \n",
      "1   neutral            26  \n",
      "2  positive            30  \n",
      "3   neutral             8  \n",
      "4  negative            37  \n"
     ]
    }
   ],
   "source": [
    "print(validator.head())"
   ]
  },
  {
   "cell_type": "code",
   "execution_count": 12,
   "id": "59c8af3f",
   "metadata": {},
   "outputs": [],
   "source": [
    "context.open_data_docs()"
   ]
  }
 ],
 "metadata": {
  "kernelspec": {
   "display_name": "base",
   "language": "python",
   "name": "python3"
  },
  "language_info": {
   "codemirror_mode": {
    "name": "ipython",
    "version": 3
   },
   "file_extension": ".py",
   "mimetype": "text/x-python",
   "name": "python",
   "nbconvert_exporter": "python",
   "pygments_lexer": "ipython3",
   "version": "3.10.9"
  }
 },
 "nbformat": 4,
 "nbformat_minor": 5
}
